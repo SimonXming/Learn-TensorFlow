{
 "cells": [
  {
   "cell_type": "code",
   "execution_count": 2,
   "metadata": {
    "collapsed": true
   },
   "outputs": [],
   "source": [
    "import tensorflow as tf\n",
    "\n",
    "# create a node called Operation（Op）\n",
    "a = tf.constant(5, name=\"input_a\")\n",
    "\n",
    "# create a node called Operation（Op）\n",
    "b = tf.constant(3, name=\"input_b\")\n",
    "\n",
    "# tensorflow 创建节点时已经包含了相应的 Op 用于提供计算需要的输入\n",
    "# tensorflow 会自动绘制必要的连接\n",
    "c = tf.multiply(a, b, name=\"mul_c\")\n",
    "d = tf.add(a, b, name=\"add_d\")\n",
    "\n",
    "# 这里定义了数据流的终点 e\n",
    "e = tf.add(c, d, name=\"add_e\")"
   ]
  },
  {
   "cell_type": "markdown",
   "metadata": {},
   "source": [
    "### 上面定义了若干节点，完成了一个小规模数据流图的完整定义\n",
    "\n",
    "### Session 对象在运行时负责对数据流图进行监督，并且是运行数据流图的主要接口。\n",
    "\n",
    "当然，tf.Session 有一个与之十分相近的变体 tf.InteractiveSession。\n"
   ]
  },
  {
   "cell_type": "code",
   "execution_count": 3,
   "metadata": {
    "collapsed": false
   },
   "outputs": [],
   "source": [
    "sess = tf.Session()\n",
    "sess.run(e)\n",
    "\n",
    "# 习惯上会用 tf.summary.FileWriter 保存来自数据流图的数据和概括统计量。\n",
    "writer = tf.summary.FileWriter(\"./my_graph\", sess.graph)\n",
    "\n",
    "writer.close()\n",
    "sess.close()"
   ]
  },
  {
   "cell_type": "code",
   "execution_count": 28,
   "metadata": {
    "collapsed": false
   },
   "outputs": [
    {
     "name": "stdout",
     "output_type": "stream",
     "text": [
      "Tensor(\"input_f_11:0\", shape=(2,), dtype=int32)\n",
      "()\n",
      "(3,)\n",
      "(3, 3)\n",
      "(3, 3, 2)\n",
      "  C_CONTIGUOUS : True\n",
      "  F_CONTIGUOUS : False\n",
      "  OWNDATA : True\n",
      "  WRITEABLE : True\n",
      "  ALIGNED : True\n",
      "  UPDATEIFCOPY : False\n"
     ]
    }
   ],
   "source": [
    "f = tf.constant([3, 5], name=\"input_f\")\n",
    "print(f)\n",
    "\n",
    "import numpy as np\n",
    "\n",
    "# 视为 0 阶张量或”标量“\n",
    "t_0 = 50\n",
    "print(np.array(t_0).shape)\n",
    "# 视为 1 阶张量或“向量”\n",
    "t_1 = [\"apple\", \"peach\", \"grape\"]\n",
    "print(np.array(t_1).shape)\n",
    "# 视为 2 阶张量或“矩阵”\n",
    "t_2 = [\n",
    "    [True, False, False],\n",
    "    [True, False, False],\n",
    "    [True, False, False],\n",
    "]\n",
    "print(np.array(t_2).shape)\n",
    "# 视为 3 阶张量\n",
    "t_3 = [[[0, 0], [0, 1], [0, 2]],\n",
    "      [[1, 0], [1, 1], [1, 2]],\n",
    "      [[2, 0], [2, 1], [2, 2]]]\n",
    "\n",
    "print(np.array(t_3).shape)\n",
    "print(np.array(t_3).flags)"
   ]
  }
 ],
 "metadata": {
  "kernelspec": {
   "display_name": "Python 3",
   "language": "python",
   "name": "python3"
  },
  "language_info": {
   "codemirror_mode": {
    "name": "ipython",
    "version": 3
   },
   "file_extension": ".py",
   "mimetype": "text/x-python",
   "name": "python",
   "nbconvert_exporter": "python",
   "pygments_lexer": "ipython3",
   "version": "3.6.0"
  }
 },
 "nbformat": 4,
 "nbformat_minor": 2
}
