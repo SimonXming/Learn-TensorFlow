{
 "cells": [
  {
   "cell_type": "markdown",
   "metadata": {},
   "source": [
    "## 0x01 Basic graph(constant 和 operation)"
   ]
  },
  {
   "cell_type": "code",
   "execution_count": 4,
   "metadata": {
    "collapsed": true
   },
   "outputs": [],
   "source": [
    "import tensorflow as tf\n",
    "\n",
    "# create a node called Operation（Op）\n",
    "a = tf.constant(5, name=\"input_a\")\n",
    "\n",
    "# create a node called Operation（Op）\n",
    "b = tf.constant(3, name=\"input_b\")\n",
    "\n",
    "# tensorflow 创建节点时已经包含了相应的 Op 用于提供计算需要的输入\n",
    "# tensorflow 会自动绘制必要的连接\n",
    "c = tf.multiply(a, b, name=\"mul_c\")\n",
    "d = tf.add(a, b, name=\"add_d\")\n",
    "\n",
    "# 这里定义了数据流的终点 e\n",
    "e = tf.add(c, d, name=\"add_e\")"
   ]
  },
  {
   "cell_type": "markdown",
   "metadata": {},
   "source": [
    "### 上面定义了若干节点，完成了一个小规模数据流图的完整定义\n",
    "\n",
    "### Session 对象在运行时负责对数据流图进行监督，并且是运行数据流图的主要接口。\n",
    "\n",
    "当然，tf.Session 有一个与之十分相近的变体 tf.InteractiveSession。\n"
   ]
  },
  {
   "cell_type": "code",
   "execution_count": 7,
   "metadata": {
    "collapsed": false
   },
   "outputs": [
    {
     "name": "stdout",
     "output_type": "stream",
     "text": [
      "63\n"
     ]
    }
   ],
   "source": [
    "sess = tf.Session()\n",
    "\n",
    "# 定义一个字典，比如将 a 的值替换为 15\n",
    "# replace_dict = {a: 15}\n",
    "# result = sess.run(e, feed_dict=replace_dict)\n",
    "\n",
    "result = sess.run(e)\n",
    "\n",
    "print(result)\n",
    "\n",
    "# 习惯上会用 tf.summary.FileWriter 保存来自数据流图的数据和概括统计量。\n",
    "writer = tf.summary.FileWriter(\"./my_graph\", sess.graph)\n",
    "\n",
    "writer.close()\n",
    "sess.close()"
   ]
  },
  {
   "cell_type": "markdown",
   "metadata": {},
   "source": [
    "## 0x02 基础张量理解\n"
   ]
  },
  {
   "cell_type": "code",
   "execution_count": 8,
   "metadata": {
    "collapsed": false
   },
   "outputs": [
    {
     "name": "stdout",
     "output_type": "stream",
     "text": [
      "Tensor(\"input_f:0\", shape=(2,), dtype=int32)\n",
      "()\n",
      "(3,)\n",
      "(3, 3)\n",
      "(3, 3, 2)\n",
      "  C_CONTIGUOUS : True\n",
      "  F_CONTIGUOUS : False\n",
      "  OWNDATA : True\n",
      "  WRITEABLE : True\n",
      "  ALIGNED : True\n",
      "  UPDATEIFCOPY : False\n"
     ]
    }
   ],
   "source": [
    "import tensorflow as tf\n",
    "\n",
    "f = tf.constant([3, 5], name=\"input_f\")\n",
    "print(f)\n",
    "\n",
    "import numpy as np\n",
    "\n",
    "# 视为 0 阶张量或”标量“\n",
    "t_0 = 50\n",
    "print(np.array(t_0).shape)\n",
    "# 视为 1 阶张量或“向量”\n",
    "t_1 = [\"apple\", \"peach\", \"grape\"]\n",
    "print(np.array(t_1).shape)\n",
    "# 视为 2 阶张量或“矩阵”\n",
    "t_2 = [\n",
    "    [True, False, False],\n",
    "    [True, False, False],\n",
    "    [True, False, False],\n",
    "]\n",
    "print(np.array(t_2).shape)\n",
    "# 视为 3 阶张量\n",
    "t_3 = [[[0, 0], [0, 1], [0, 2]],\n",
    "      [[1, 0], [1, 1], [1, 2]],\n",
    "      [[2, 0], [2, 1], [2, 2]]]\n",
    "\n",
    "print(np.array(t_3).shape)\n",
    "print(np.array(t_3).flags)"
   ]
  },
  {
   "cell_type": "markdown",
   "metadata": {},
   "source": [
    "## 0x03 占位符和 variable 对象\n",
    "\n",
    "0x01 并未使用真正的输入，而是常量。而占位符的作用是为运行时即将到来的某个 tensor 对象预留位置。"
   ]
  },
  {
   "cell_type": "code",
   "execution_count": 10,
   "metadata": {
    "collapsed": false
   },
   "outputs": [
    {
     "data": {
      "text/plain": [
       "23"
      ]
     },
     "execution_count": 10,
     "metadata": {},
     "output_type": "execute_result"
    }
   ],
   "source": [
    "import tensorflow as tf\n",
    "import numpy as np\n",
    "\n",
    "# 创建一个长度为 2，数据类型为 int32 的占位向量\n",
    "a = tf.placeholder(tf.int32, shape=[2], name=\"user_input\")\n",
    "\n",
    "# 将该占位向量视为其他任意 tensor 对象，加以利用\n",
    "b = tf.reduce_prod(a, name=\"prod_b\")\n",
    "c = tf.reduce_sum(a, name=\"sum_c\")\n",
    "\n",
    "# 完成数据流图的定义\n",
    "d = tf.add(b, c, name=\"add_d\")\n",
    "\n",
    "sess_placeholder = tf.Session()\n",
    "\n",
    "input_dict = {a: np.array([5, 3], dtype=np.int32)}\n",
    "\n",
    "sess_placeholder.run(d, feed_dict=input_dict)\n",
    "\n",
    "my_var = tf.Variable(3, name=\"my_var\")\n",
    "\n",
    "add = tf.add(5, my_var)\n",
    "mul = tf.multiply(8, my_var)\n",
    "\n",
    "# Variable 的初始化\n",
    "\n",
    "# 必须在一个 session 对象中对 Variable 对象进行初始化，\n",
    "# 这样会 session 对象开始追踪这个 variable 对象的值的变化\n",
    "init = tf.initialize_all_variables()\n",
    "sess = tf.Session()\n",
    "sess.run(init)\n",
    "\n",
    "var1 = tf.Variable(0, name=\"initialize_me\")\n",
    "var2 = tf.Variable(1, name=\"no_initialize\")\n",
    "init = tf.initialize_all_variables([var1], name=\"init_var1\")\n",
    "sess = tf.Session()\n",
    "sess.run(init)\n",
    "\n",
    "\n",
    "# Variable 的初始化\n",
    "\n",
    "my_var = tf.Variable(1)\n",
    "\n",
    "# 创建一个 Op, 使其在每次运行时都将该 variable 对象乘以 2\n",
    "my_var_times_two = my_var.assign(my_var * 2)\n",
    "\n",
    "# 自增 1\n",
    "my_var_plus_one = my_var.assign_add(1)\n",
    "# 自减 1\n",
    "my_var_plus_one = my_var.assign_sub(1)\n",
    "\n",
    "init = tf.initialize_all_variables()\n",
    "sess = tf.Session()\n",
    "\n",
    "sess.run(init)\n",
    "sess.run(my_var_times_two)\n",
    "sess.run(my_var_plus_one)\n",
    "sess.run(my_var_plus_one)\n",
    "\n",
    "# trainable 参数\n",
    "# 本书后续将介绍各种能够自动训练机器学习模型的 optimizer 类，这意味着这些类将自动修改 variable 对象的值，而无需显式请求\n",
    "# variable 对象默认 trainable=True, 如果不希望 optimizer 类修改它\n",
    "# no_trainable = tf.Variable(0, trainable=False)\n",
    "\n"
   ]
  },
  {
   "cell_type": "markdown",
   "metadata": {},
   "source": [
    "## 0x04 辅助函数"
   ]
  },
  {
   "cell_type": "code",
   "execution_count": 15,
   "metadata": {
    "collapsed": false
   },
   "outputs": [],
   "source": [
    "# 2*2 的零矩阵\n",
    "zeros = tf.zeros([2, 2])\n",
    "\n",
    "# 长度为 6 的全 1 向量\n",
    "ones = tf.ones([6])\n",
    "\n",
    "# 3*3*3 的张量，其元素服从 0～10 的均匀分布\n",
    "uniform = tf.random_uniform([3, 3, 3], minval=0, maxval=10)\n",
    "\n",
    "# 3*3*3 的张量，其元素服从0均值，标准差为 2 的正态分布\n",
    "noraml = tf.random_normal([3, 3, 3], mean=0.0, stddev=2.0)\n",
    "\n",
    "# 该 tensor 对象不会返回任何小于 3.0 或大于 7.0 的值\n",
    "trunc = tf.truncated_normal([2, 2], mean=5.0, stddev=1.0)\n",
    "\n",
    "# 默认均值为 0，默认标准差为 1.0\n",
    "random_var = tf.Variable(tf.truncated_normal([2, 2]))"
   ]
  },
  {
   "cell_type": "markdown",
   "metadata": {},
   "source": [
    "## 0x05 通过名称作用域组织数据流图\n"
   ]
  },
  {
   "cell_type": "code",
   "execution_count": 17,
   "metadata": {
    "collapsed": false
   },
   "outputs": [],
   "source": [
    "# Basic\n",
    "import tensorflow as tf\n",
    "\n",
    "with tf.name_scope(\"Scope_A\"):\n",
    "    a = tf.add(1, 2, name=\"A_add\")\n",
    "    b = tf.multiply(a, 3, name=\"A_mul\")\n",
    "    \n",
    "with tf.name_scope(\"Scope_B\"):\n",
    "    c = tf.add(4, 5, name=\"B_add\")\n",
    "    d = tf.multiply(c, 6, name=\"B_mul\")\n",
    "    \n",
    "e = tf.add(b, d, name=\"output\")\n",
    "\n",
    "# 习惯上会用 tf.summary.FileWriter 保存来自数据流图的数据和概括统计量。\n",
    "writer = tf.summary.FileWriter(\"./name_scope_1_graph\", graph=tf.get_default_graph())\n",
    "writer.close()"
   ]
  },
  {
   "cell_type": "code",
   "execution_count": 4,
   "metadata": {
    "collapsed": true
   },
   "outputs": [],
   "source": [
    "import tensorflow as tf\n",
    "\n",
    "graph = tf.Graph()\n",
    "\n",
    "with graph.as_default():\n",
    "    in_1 = tf.placeholder(tf.float32, shape=[], name=\"input_a\")\n",
    "    in_2 = tf.placeholder(tf.float32, shape=[], name=\"input_b\")\n",
    "    const = tf.constant(3, dtype=tf.float32, name=\"static_value\")\n",
    "\n",
    "    with tf.name_scope(\"Transfomation\"):\n",
    "        with tf.name_scope(\"A\"):\n",
    "            A_mul = tf.multiply(in_1, const)\n",
    "            A_out = tf.subtract(A_mul, in_1)\n",
    "            \n",
    "        with tf.name_scope(\"B\"):\n",
    "            B_mul = tf.multiply(in_2, const)\n",
    "            B_out = tf.subtract(B_mul, in_2)\n",
    "          \n",
    "        with tf.name_scope(\"C\"):\n",
    "            C_div = tf.div(A_out, B_out)\n",
    "            C_out = tf.add(C_div, const)\n",
    "        \n",
    "        with tf.name_scope(\"D\"):\n",
    "            D_div = tf.div(B_out, A_out)\n",
    "            D_out = tf.add(D_div, const)\n",
    "        \n",
    "    out = tf.maximum(C_out, D_out)\n",
    "\n",
    "    writer = tf.summary.FileWriter(\"./name_scope_2_graph\", graph=graph)\n",
    "    writer.close()"
   ]
  }
 ],
 "metadata": {
  "kernelspec": {
   "display_name": "Python 3",
   "language": "python",
   "name": "python3"
  },
  "language_info": {
   "codemirror_mode": {
    "name": "ipython",
    "version": 3
   },
   "file_extension": ".py",
   "mimetype": "text/x-python",
   "name": "python",
   "nbconvert_exporter": "python",
   "pygments_lexer": "ipython3",
   "version": "3.6.0"
  }
 },
 "nbformat": 4,
 "nbformat_minor": 2
}
